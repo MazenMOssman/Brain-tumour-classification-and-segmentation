{
 "cells": [
  {
   "cell_type": "code",
   "execution_count": 1,
   "id": "9b9b0908",
   "metadata": {},
   "outputs": [],
   "source": [
    "import tensorflow as tf\n"
   ]
  },
  {
   "cell_type": "code",
   "execution_count": null,
   "id": "003a531b",
   "metadata": {},
   "outputs": [],
   "source": []
  },
  {
   "cell_type": "code",
   "execution_count": 6,
   "id": "f53a5596",
   "metadata": {},
   "outputs": [
    {
     "name": "stdout",
     "output_type": "stream",
     "text": [
      "Found 1311 images belonging to 4 classes.\n"
     ]
    }
   ],
   "source": [
    "from tensorflow.keras.preprocessing.image import ImageDataGenerator\n",
    "Test_g = ImageDataGenerator( rescale=1./255)\n",
    "Test_gen = Test_g.flow_from_directory(\"G:\\MSc project\\Dataset 3\\Testing\",\n",
    "                                       target_size = (150,150),\n",
    "                                        color_mode = 'rgb',\n",
    "                                       class_mode = 'sparse',\n",
    "                            batch_size= 32\n",
    "                                       )"
   ]
  },
  {
   "cell_type": "code",
   "execution_count": 7,
   "id": "25c1ef4e",
   "metadata": {},
   "outputs": [],
   "source": [
    "import math\n",
    "import numpy as np\n",
    "number_of_examples = len(Test_gen.filenames)\n",
    "number_of_generator_calls = math.ceil(number_of_examples / (1.0 * 32)) \n",
    "# 1.0 above is to skip integer division\n",
    "\n",
    "test_labels = []\n",
    "test_images = []\n",
    "\n",
    "for i in range(0,int(number_of_generator_calls)):\n",
    "    test_labels.extend(np.array(Test_gen[i][1]))\n",
    "    test_images.extend(np.array(Test_gen[i][0]))"
   ]
  },
  {
   "cell_type": "code",
   "execution_count": 19,
   "id": "bd104665",
   "metadata": {},
   "outputs": [],
   "source": [
    "model_VGG16= tf.keras.models.load_model(r'G:\\MSc project\\VGG16.h5', compile=False)"
   ]
  },
  {
   "cell_type": "code",
   "execution_count": 4,
   "id": "e352e19e",
   "metadata": {},
   "outputs": [],
   "source": [
    "model_xception= tf.keras.models.load_model(r\"G:\\MSc project\\Xception.h5\", compile = False)"
   ]
  },
  {
   "cell_type": "code",
   "execution_count": 14,
   "id": "1f68095a",
   "metadata": {},
   "outputs": [],
   "source": [
    "model_res = tf.keras.models.load_model(r\"G:\\MSc project\\ResNet152V2.h5\", compile = False)"
   ]
  },
  {
   "cell_type": "code",
   "execution_count": 15,
   "id": "d0a20e24",
   "metadata": {},
   "outputs": [],
   "source": [
    "proposed_model =tf.keras.models.load_model(r\"G:\\MSc project\\Mazeyarabv4.h5\", compile = False)"
   ]
  },
  {
   "cell_type": "code",
   "execution_count": 8,
   "id": "966c551a",
   "metadata": {},
   "outputs": [],
   "source": [
    "test= np.array(test_images)"
   ]
  },
  {
   "cell_type": "code",
   "execution_count": 9,
   "id": "0fe8d28c",
   "metadata": {},
   "outputs": [],
   "source": [
    "test_labels= np.array(test_labels) "
   ]
  },
  {
   "cell_type": "code",
   "execution_count": 22,
   "id": "d8914503",
   "metadata": {},
   "outputs": [
    {
     "name": "stdout",
     "output_type": "stream",
     "text": [
      "41/41 [==============================] - 81s 2s/step\n"
     ]
    }
   ],
   "source": [
    "VGG16_pre = model_VGG16.predict(test)"
   ]
  },
  {
   "cell_type": "code",
   "execution_count": 38,
   "id": "ed15d9e5",
   "metadata": {
    "scrolled": false
   },
   "outputs": [
    {
     "name": "stdout",
     "output_type": "stream",
     "text": [
      "41/41 [==============================] - 30s 720ms/step\n"
     ]
    }
   ],
   "source": [
    "Xception_pre =np.argmax(model_xception.predict(test),1)"
   ]
  },
  {
   "cell_type": "code",
   "execution_count": 43,
   "id": "4d6395f3",
   "metadata": {},
   "outputs": [
    {
     "name": "stdout",
     "output_type": "stream",
     "text": [
      "41/41 [==============================] - 88s 2s/step\n"
     ]
    }
   ],
   "source": [
    "res_pre =np.argmax(model_res.predict(test),1)"
   ]
  },
  {
   "cell_type": "code",
   "execution_count": 46,
   "id": "b682b436",
   "metadata": {},
   "outputs": [
    {
     "name": "stdout",
     "output_type": "stream",
     "text": [
      "41/41 [==============================] - 96s 2s/step\n"
     ]
    }
   ],
   "source": [
    "pr_model = np.argmax(proposed_model.predict(test),1)"
   ]
  },
  {
   "cell_type": "code",
   "execution_count": 48,
   "id": "f8b0320c",
   "metadata": {},
   "outputs": [],
   "source": [
    "from sklearn.metrics import classification_report\n"
   ]
  },
  {
   "cell_type": "code",
   "execution_count": 51,
   "id": "8abd5c37",
   "metadata": {},
   "outputs": [
    {
     "name": "stdout",
     "output_type": "stream",
     "text": [
      "              precision    recall  f1-score   support\n",
      "\n",
      "      glioma       0.87      0.96      0.91       273\n",
      "  meningioma       0.92      0.86      0.89       325\n",
      "    no tumor       0.98      0.97      0.98       407\n",
      "   pituitary       0.97      0.95      0.96       306\n",
      "\n",
      "    accuracy                           0.94      1311\n",
      "   macro avg       0.93      0.94      0.94      1311\n",
      "weighted avg       0.94      0.94      0.94      1311\n",
      "\n"
     ]
    }
   ],
   "source": [
    "print(classification_report(res_pre, test_labels, target_names=['glioma','meningioma','no tumor','pituitary']))"
   ]
  },
  {
   "cell_type": "code",
   "execution_count": 52,
   "id": "e44fe1ab",
   "metadata": {},
   "outputs": [
    {
     "name": "stdout",
     "output_type": "stream",
     "text": [
      "              precision    recall  f1-score   support\n",
      "\n",
      "      glioma       0.91      0.94      0.92       293\n",
      "  meningioma       0.85      0.92      0.88       281\n",
      "    no tumor       1.00      0.93      0.96       433\n",
      "   pituitary       0.99      0.98      0.98       304\n",
      "\n",
      "    accuracy                           0.94      1311\n",
      "   macro avg       0.94      0.94      0.94      1311\n",
      "weighted avg       0.94      0.94      0.94      1311\n",
      "\n"
     ]
    }
   ],
   "source": [
    "print(classification_report(pr_model, test_labels, target_names=['glioma','meningioma','no tumor','pituitary']))"
   ]
  },
  {
   "cell_type": "code",
   "execution_count": 53,
   "id": "753a578d",
   "metadata": {},
   "outputs": [
    {
     "name": "stdout",
     "output_type": "stream",
     "text": [
      "              precision    recall  f1-score   support\n",
      "\n",
      "      glioma       0.83      0.94      0.88       264\n",
      "  meningioma       0.89      0.82      0.86       331\n",
      "    no tumor       0.99      0.97      0.98       415\n",
      "   pituitary       0.95      0.95      0.95       301\n",
      "\n",
      "    accuracy                           0.92      1311\n",
      "   macro avg       0.92      0.92      0.92      1311\n",
      "weighted avg       0.92      0.92      0.92      1311\n",
      "\n"
     ]
    }
   ],
   "source": [
    "print(classification_report(Xception_pre, test_labels, target_names=['glioma','meningioma','no tumor','pituitary']))"
   ]
  },
  {
   "cell_type": "code",
   "execution_count": 54,
   "id": "9f5983e1",
   "metadata": {},
   "outputs": [
    {
     "name": "stdout",
     "output_type": "stream",
     "text": [
      "              precision    recall  f1-score   support\n",
      "\n",
      "      glioma       0.72      0.99      0.84       219\n",
      "  meningioma       0.82      0.75      0.78       337\n",
      "    no tumor       0.98      0.92      0.95       431\n",
      "   pituitary       0.98      0.91      0.95       324\n",
      "\n",
      "    accuracy                           0.89      1311\n",
      "   macro avg       0.88      0.89      0.88      1311\n",
      "weighted avg       0.90      0.89      0.89      1311\n",
      "\n"
     ]
    }
   ],
   "source": [
    "print(classification_report( np.argmax(VGG16_pre,axis = 1), test_labels, target_names=['glioma','meningioma','no tumor','pituitary']))"
   ]
  },
  {
   "cell_type": "code",
   "execution_count": 55,
   "id": "9e15e13d",
   "metadata": {},
   "outputs": [
    {
     "name": "stdout",
     "output_type": "stream",
     "text": [
      "41/41 [==============================] - 177s 4s/step\n",
      "              precision    recall  f1-score   support\n",
      "\n",
      "      glioma       0.95      0.96      0.95       296\n",
      "  meningioma       0.93      0.94      0.94       303\n",
      "    no tumor       1.00      0.98      0.99       410\n",
      "   pituitary       0.99      0.98      0.99       302\n",
      "\n",
      "    accuracy                           0.97      1311\n",
      "   macro avg       0.97      0.97      0.97      1311\n",
      "weighted avg       0.97      0.97      0.97      1311\n",
      "\n"
     ]
    }
   ],
   "source": [
    "proposed_res = tf.keras.models.load_model(r\"G:\\MSc project\\Mazemorelayerseperable+res20ep.h5\")\n",
    "proposed_res_pr =np.argmax(proposed_res.predict(test),1)\n",
    "print(classification_report( proposed_res_pr, test_labels, target_names=['glioma','meningioma','no tumor','pituitary']))"
   ]
  },
  {
   "cell_type": "code",
   "execution_count": 56,
   "id": "f6bb0dee",
   "metadata": {},
   "outputs": [
    {
     "name": "stdout",
     "output_type": "stream",
     "text": [
      "41/41 [==============================] - 229s 6s/step\n",
      "              precision    recall  f1-score   support\n",
      "\n",
      "      glioma       0.91      0.96      0.93       284\n",
      "  meningioma       0.95      0.89      0.92       327\n",
      "    no tumor       0.98      0.99      0.99       399\n",
      "   pituitary       0.98      0.97      0.98       301\n",
      "\n",
      "    accuracy                           0.95      1311\n",
      "   macro avg       0.95      0.95      0.95      1311\n",
      "weighted avg       0.96      0.95      0.95      1311\n",
      "\n"
     ]
    }
   ],
   "source": [
    "proposed_res = tf.keras.models.load_model(r\"G:\\MSc project\\Mazemorelayerv2.h5\")\n",
    "proposed_res_pr =np.argmax(proposed_res.predict(test),1)\n",
    "print(classification_report( proposed_res_pr, test_labels, target_names=['glioma','meningioma','no tumor','pituitary']))"
   ]
  },
  {
   "cell_type": "code",
   "execution_count": 57,
   "id": "83d95018",
   "metadata": {},
   "outputs": [
    {
     "name": "stdout",
     "output_type": "stream",
     "text": [
      "41/41 [==============================] - 218s 5s/step\n",
      "              precision    recall  f1-score   support\n",
      "\n",
      "      glioma       0.89      0.96      0.92       278\n",
      "  meningioma       0.94      0.87      0.91       331\n",
      "    no tumor       0.98      0.99      0.99       401\n",
      "   pituitary       0.98      0.97      0.98       301\n",
      "\n",
      "    accuracy                           0.95      1311\n",
      "   macro avg       0.95      0.95      0.95      1311\n",
      "weighted avg       0.95      0.95      0.95      1311\n",
      "\n"
     ]
    }
   ],
   "source": [
    "proposed_res = tf.keras.models.load_model(r\"G:\\MSc project\\Mazemorelayer.h5\")\n",
    "proposed_res_pr =np.argmax(proposed_res.predict(test),1)\n",
    "print(classification_report( proposed_res_pr, test_labels, target_names=['glioma','meningioma','no tumor','pituitary']))"
   ]
  },
  {
   "cell_type": "code",
   "execution_count": 2,
   "id": "39468475",
   "metadata": {},
   "outputs": [],
   "source": [
    "model = tf.keras.models.load_model(r\"G:\\MSc project\\InceptionResNet.h5\", compile = False)"
   ]
  },
  {
   "cell_type": "code",
   "execution_count": 10,
   "id": "87988557",
   "metadata": {},
   "outputs": [
    {
     "name": "stdout",
     "output_type": "stream",
     "text": [
      "41/41 [==============================] - 16s 131ms/step\n",
      "              precision    recall  f1-score   support\n",
      "\n",
      "      glioma       0.86      0.97      0.91       267\n",
      "  meningioma       0.83      0.89      0.86       284\n",
      "    no tumor       0.99      0.92      0.96       435\n",
      "   pituitary       0.99      0.91      0.95       325\n",
      "\n",
      "    accuracy                           0.92      1311\n",
      "   macro avg       0.92      0.92      0.92      1311\n",
      "weighted avg       0.93      0.92      0.92      1311\n",
      "\n"
     ]
    }
   ],
   "source": [
    "proposed_res_pr =np.argmax(model.predict(test),1)\n",
    "print(classification_report( proposed_res_pr, test_labels, target_names=['glioma','meningioma','no tumor','pituitary']))"
   ]
  },
  {
   "cell_type": "code",
   "execution_count": 4,
   "id": "5d67a39c",
   "metadata": {},
   "outputs": [],
   "source": [
    "import numpy as np\n",
    "from sklearn.metrics import classification_report"
   ]
  },
  {
   "cell_type": "code",
   "execution_count": 5,
   "id": "5eb7ea79",
   "metadata": {},
   "outputs": [
    {
     "data": {
      "image/png": "[encoded data removed]",
      "text/plain": [
       "<IPython.core.display.Image object>"
      ]
     },
     "execution_count": 5,
     "metadata": {},
     "output_type": "execute_result"
    }
   ],
   "source": [
    "tf.keras.utils.plot_model(model_xception)"
   ]
  },
  {
   "cell_type": "code",
   "execution_count": 3,
   "id": "b9f25336",
   "metadata": {},
   "outputs": [],
   "source": [
    "proposed_res = tf.keras.models.load_model(r\"G:\\MSc project\\Mazemorelayerseperable+res20ep.h5\")\n"
   ]
  },
  {
   "cell_type": "code",
   "execution_count": 22,
   "id": "f7fa6a60",
   "metadata": {},
   "outputs": [
    {
     "name": "stdout",
     "output_type": "stream",
     "text": [
      "TensorFlow: 2.10.1\n",
      "Flops: 6,620,889,356\n"
     ]
    }
   ],
   "source": [
    "model_VGG16= tf.keras.models.load_model(r'G:\\MSc project\\VGG16.h5', compile=False)\n",
    "import tensorflow as tf\n",
    "from tensorflow.python.profiler.model_analyzer import profile\n",
    "from tensorflow.python.profiler.option_builder import ProfileOptionBuilder\n",
    "print('TensorFlow:', tf.__version__)\n",
    "\n",
    "model = model_VGG16\n",
    "\n",
    "forward_pass = tf.function(\n",
    "    model.call,\n",
    "    input_signature=[tf.TensorSpec(shape=(1,) + model.input_shape[1:])])\n",
    "\n",
    "graph_info = profile(forward_pass.get_concrete_function().graph,\n",
    "                        options=ProfileOptionBuilder.float_operation())\n",
    "\n",
    "# The //2 is necessary since `profile` counts multiply and accumulate\n",
    "# as two flops, here we report the total number of multiply accumulate ops\n",
    "flops = graph_info.total_float_ops // 2\n",
    "print('Flops: {:,}'.format(flops))"
   ]
  },
  {
   "cell_type": "code",
   "execution_count": 23,
   "id": "e1678d05",
   "metadata": {},
   "outputs": [
    {
     "name": "stdout",
     "output_type": "stream",
     "text": [
      "TensorFlow: 2.10.1\n",
      "Flops: 1,932,468,392\n"
     ]
    }
   ],
   "source": [
    "model_xception= tf.keras.models.load_model(r\"G:\\MSc project\\Xception.h5\", compile = False)\n",
    "import tensorflow as tf\n",
    "from tensorflow.python.profiler.model_analyzer import profile\n",
    "from tensorflow.python.profiler.option_builder import ProfileOptionBuilder\n",
    "print('TensorFlow:', tf.__version__)\n",
    "\n",
    "model = model_xception\n",
    "\n",
    "forward_pass = tf.function(\n",
    "    model.call,\n",
    "    input_signature=[tf.TensorSpec(shape=(1,) + model.input_shape[1:])])\n",
    "\n",
    "graph_info = profile(forward_pass.get_concrete_function().graph,\n",
    "                        options=ProfileOptionBuilder.float_operation())\n",
    "\n",
    "# The //2 is necessary since `profile` counts multiply and accumulate\n",
    "# as two flops, here we report the total number of multiply accumulate ops\n",
    "flops = graph_info.total_float_ops // 2\n",
    "print('Flops: {:,}'.format(flops))"
   ]
  },
  {
   "cell_type": "code",
   "execution_count": 25,
   "id": "f1772bf0",
   "metadata": {},
   "outputs": [
    {
     "name": "stdout",
     "output_type": "stream",
     "text": [
      "TensorFlow: 2.10.1\n",
      "Flops: 5,457,456,108\n"
     ]
    }
   ],
   "source": [
    "model_res = tf.keras.models.load_model(r\"G:\\MSc project\\ResNet152V2.h5\", compile = False)\n",
    "import tensorflow as tf\n",
    "from tensorflow.python.profiler.model_analyzer import profile\n",
    "from tensorflow.python.profiler.option_builder import ProfileOptionBuilder\n",
    "print('TensorFlow:', tf.__version__)\n",
    "\n",
    "model = model_res\n",
    "\n",
    "forward_pass = tf.function(\n",
    "    model.call,\n",
    "    input_signature=[tf.TensorSpec(shape=(1,) + model.input_shape[1:])])\n",
    "\n",
    "graph_info = profile(forward_pass.get_concrete_function().graph,\n",
    "                        options=ProfileOptionBuilder.float_operation())\n",
    "\n",
    "# The //2 is necessary since `profile` counts multiply and accumulate\n",
    "# as two flops, here we report the total number of multiply accumulate ops\n",
    "flops = graph_info.total_float_ops // 2\n",
    "print('Flops: {:,}'.format(flops))"
   ]
  },
  {
   "cell_type": "code",
   "execution_count": 26,
   "id": "ebd174a2",
   "metadata": {},
   "outputs": [
    {
     "name": "stdout",
     "output_type": "stream",
     "text": [
      "TensorFlow: 2.10.1\n",
      "Flops: 5,345,464,312\n"
     ]
    }
   ],
   "source": [
    "proposed_model =tf.keras.models.load_model(r\"G:\\MSc project\\Mazeyarabv4.h5\", compile = False)\n",
    "import tensorflow as tf\n",
    "from tensorflow.python.profiler.model_analyzer import profile\n",
    "from tensorflow.python.profiler.option_builder import ProfileOptionBuilder\n",
    "print('TensorFlow:', tf.__version__)\n",
    "\n",
    "model = proposed_model\n",
    "\n",
    "forward_pass = tf.function(\n",
    "    model.call,\n",
    "    input_signature=[tf.TensorSpec(shape=(1,) + model.input_shape[1:])])\n",
    "\n",
    "graph_info = profile(forward_pass.get_concrete_function().graph,\n",
    "                        options=ProfileOptionBuilder.float_operation())\n",
    "\n",
    "# The //2 is necessary since `profile` counts multiply and accumulate\n",
    "# as two flops, here we report the total number of multiply accumulate ops\n",
    "flops = graph_info.total_float_ops // 2\n",
    "print('Flops: {:,}'.format(flops))"
   ]
  },
  {
   "cell_type": "code",
   "execution_count": 28,
   "id": "cda9dbc8",
   "metadata": {},
   "outputs": [
    {
     "name": "stdout",
     "output_type": "stream",
     "text": [
      "TensorFlow: 2.10.1\n",
      "Flops: 9,338,358,520\n"
     ]
    }
   ],
   "source": [
    "proposed_res = tf.keras.models.load_model(r\"G:\\MSc project\\Mazemorelayerseperable+res20ep.h5\")\n",
    "import tensorflow as tf\n",
    "from tensorflow.python.profiler.model_analyzer import profile\n",
    "from tensorflow.python.profiler.option_builder import ProfileOptionBuilder\n",
    "print('TensorFlow:', tf.__version__)\n",
    "\n",
    "model = proposed_res\n",
    "\n",
    "forward_pass = tf.function(\n",
    "    model.call,\n",
    "    input_signature=[tf.TensorSpec(shape=(1,) + model.input_shape[1:])])\n",
    "\n",
    "graph_info = profile(forward_pass.get_concrete_function().graph,\n",
    "                        options=ProfileOptionBuilder.float_operation())\n",
    "\n",
    "# The //2 is necessary since `profile` counts multiply and accumulate\n",
    "# as two flops, here we report the total number of multiply accumulate ops\n",
    "flops = graph_info.total_float_ops // 2\n",
    "print('Flops: {:,}'.format(flops))"
   ]
  },
  {
   "cell_type": "code",
   "execution_count": 29,
   "id": "2add9c16",
   "metadata": {},
   "outputs": [
    {
     "name": "stdout",
     "output_type": "stream",
     "text": [
      "TensorFlow: 2.10.1\n",
      "Flops: 5,672,909,760\n"
     ]
    }
   ],
   "source": [
    "proposed_model =tf.keras.models.load_model(r\"G:\\MSc project\\segmentation_mymodel_test.h5\", compile = False)\n",
    "import tensorflow as tf\n",
    "from tensorflow.python.profiler.model_analyzer import profile\n",
    "from tensorflow.python.profiler.option_builder import ProfileOptionBuilder\n",
    "print('TensorFlow:', tf.__version__)\n",
    "\n",
    "model = proposed_model\n",
    "\n",
    "forward_pass = tf.function(\n",
    "    model.call,\n",
    "    input_signature=[tf.TensorSpec(shape=(1,) + model.input_shape[1:])])\n",
    "\n",
    "graph_info = profile(forward_pass.get_concrete_function().graph,\n",
    "                        options=ProfileOptionBuilder.float_operation())\n",
    "\n",
    "# The //2 is necessary since `profile` counts multiply and accumulate\n",
    "# as two flops, here we report the total number of multiply accumulate ops\n",
    "flops = graph_info.total_float_ops // 2\n",
    "print('Flops: {:,}'.format(flops))"
   ]
  },
  {
   "cell_type": "code",
   "execution_count": 1,
   "id": "e3fd76cc",
   "metadata": {},
   "outputs": [
    {
     "name": "stdout",
     "output_type": "stream",
     "text": [
      "TensorFlow: 2.10.1\n",
      "WARNING:tensorflow:From G:\\Programs\\Anaconda\\anaconda\\envs\\tf\\lib\\site-packages\\tensorflow\\python\\ops\\nn_ops.py:5250: tensor_shape_from_node_def_name (from tensorflow.python.framework.graph_util_impl) is deprecated and will be removed in a future version.\n",
      "Instructions for updating:\n",
      "Use `tf.compat.v1.graph_util.tensor_shape_from_node_def_name`\n",
      "Flops: 10,791,179,192\n"
     ]
    }
   ],
   "source": [
    "import tensorflow as tf\n",
    "proposed_res = tf.keras.models.load_model(r\"G:\\MSc project\\Mazemorelayerv2.h5\", compile = False)\n",
    "import tensorflow as tf\n",
    "from tensorflow.python.profiler.model_analyzer import profile\n",
    "from tensorflow.python.profiler.option_builder import ProfileOptionBuilder\n",
    "print('TensorFlow:', tf.__version__)\n",
    "\n",
    "model = proposed_res\n",
    "\n",
    "forward_pass = tf.function(\n",
    "    model.call,\n",
    "    input_signature=[tf.TensorSpec(shape=(1,) + model.input_shape[1:])])\n",
    "\n",
    "graph_info = profile(forward_pass.get_concrete_function().graph,\n",
    "                        options=ProfileOptionBuilder.float_operation())\n",
    "\n",
    "# The //2 is necessary since `profile` counts multiply and accumulate\n",
    "# as two flops, here we report the total number of multiply accumulate ops\n",
    "flops = graph_info.total_float_ops // 2\n",
    "print('Flops: {:,}'.format(flops))"
   ]
  },
  {
   "cell_type": "code",
   "execution_count": 4,
   "id": "4580ae1c",
   "metadata": {},
   "outputs": [
    {
     "name": "stdout",
     "output_type": "stream",
     "text": [
      "TensorFlow: 2.10.1\n",
      "Flops: 10,780,518,392\n"
     ]
    }
   ],
   "source": [
    "import tensorflow as tf\n",
    "proposed_res = tf.keras.models.load_model(r\"G:\\MSc project\\Mazemorelayer.h5\", compile = False)\n",
    "import tensorflow as tf\n",
    "from tensorflow.python.profiler.model_analyzer import profile\n",
    "from tensorflow.python.profiler.option_builder import ProfileOptionBuilder\n",
    "print('TensorFlow:', tf.__version__)\n",
    "\n",
    "model = proposed_res\n",
    "\n",
    "forward_pass = tf.function(\n",
    "    model.call,\n",
    "    input_signature=[tf.TensorSpec(shape=(1,) + model.input_shape[1:])])\n",
    "\n",
    "graph_info = profile(forward_pass.get_concrete_function().graph,\n",
    "                        options=ProfileOptionBuilder.float_operation())\n",
    "\n",
    "# The //2 is necessary since `profile` counts multiply and accumulate\n",
    "# as two flops, here we report the total number of multiply accumulate ops\n",
    "flops = graph_info.total_float_ops // 2\n",
    "print('Flops: {:,}'.format(flops))"
   ]
  },
  {
   "cell_type": "code",
   "execution_count": 2,
   "id": "796b64d9",
   "metadata": {},
   "outputs": [
    {
     "name": "stdout",
     "output_type": "stream",
     "text": [
      "TensorFlow: 2.10.1\n",
      "Flops: 9,338,358,520\n"
     ]
    }
   ],
   "source": [
    "proposed_res = tf.keras.models.load_model(r\"G:\\MSc project\\Mazemorelayerseperable+res20ep.h5\")\n",
    "import tensorflow as tf\n",
    "from tensorflow.python.profiler.model_analyzer import profile\n",
    "from tensorflow.python.profiler.option_builder import ProfileOptionBuilder\n",
    "print('TensorFlow:', tf.__version__)\n",
    "\n",
    "model = proposed_res\n",
    "\n",
    "forward_pass = tf.function(\n",
    "    model.call,\n",
    "    input_signature=[tf.TensorSpec(shape=(1,) + model.input_shape[1:])])\n",
    "\n",
    "graph_info = profile(forward_pass.get_concrete_function().graph,\n",
    "                        options=ProfileOptionBuilder.float_operation())\n",
    "\n",
    "# The //2 is necessary since `profile` counts multiply and accumulate\n",
    "# as two flops, here we report the total number of multiply accumulate ops\n",
    "flops = graph_info.total_float_ops // 2\n",
    "print('Flops: {:,}'.format(flops))"
   ]
  },
  {
   "cell_type": "code",
   "execution_count": 3,
   "id": "838e5b78",
   "metadata": {},
   "outputs": [
    {
     "name": "stdout",
     "output_type": "stream",
     "text": [
      "TensorFlow: 2.10.1\n",
      "Flops: 2,369,154,604\n"
     ]
    }
   ],
   "source": [
    "model = tf.keras.models.load_model(r\"G:\\MSc project\\InceptionResNet.h5\", compile = False)\n",
    "import tensorflow as tf\n",
    "from tensorflow.python.profiler.model_analyzer import profile\n",
    "from tensorflow.python.profiler.option_builder import ProfileOptionBuilder\n",
    "print('TensorFlow:', tf.__version__)\n",
    "\n",
    "model = model\n",
    "\n",
    "forward_pass = tf.function(\n",
    "    model.call,\n",
    "    input_signature=[tf.TensorSpec(shape=(1,) + model.input_shape[1:])])\n",
    "\n",
    "graph_info = profile(forward_pass.get_concrete_function().graph,\n",
    "                        options=ProfileOptionBuilder.float_operation())\n",
    "\n",
    "# The //2 is necessary since `profile` counts multiply and accumulate\n",
    "# as two flops, here we report the total number of multiply accumulate ops\n",
    "flops = graph_info.total_float_ops // 2\n",
    "print('Flops: {:,}'.format(flops))"
   ]
  },
  {
   "cell_type": "code",
   "execution_count": null,
   "id": "b2e96a8b",
   "metadata": {},
   "outputs": [],
   "source": []
  }
 ],
 "metadata": {
  "kernelspec": {
   "display_name": "Python 3 (ipykernel)",
   "language": "python",
   "name": "python3"
  },
  "language_info": {
   "codemirror_mode": {
    "name": "ipython",
    "version": 3
   },
   "file_extension": ".py",
   "mimetype": "text/x-python",
   "name": "python",
   "nbconvert_exporter": "python",
   "pygments_lexer": "ipython3",
   "version": "3.9.16"
  }
 },
 "nbformat": 4,
 "nbformat_minor": 5
}
